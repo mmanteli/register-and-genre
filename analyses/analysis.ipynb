{
 "cells": [
  {
   "cell_type": "markdown",
   "metadata": {},
   "source": [
    "# Analyzing the two predictions and how they connect"
   ]
  },
  {
   "cell_type": "code",
   "execution_count": 1,
   "metadata": {},
   "outputs": [],
   "source": [
    "import pandas as pd\n",
    "import numpy as np"
   ]
  },
  {
   "cell_type": "code",
   "execution_count": 2,
   "metadata": {},
   "outputs": [],
   "source": [
    "df_all = pd.read_csv(\"/scratch/project_2009199/register-vs-genre/results/against-large.tsv\", sep=\"\\t\")"
   ]
  },
  {
   "cell_type": "code",
   "execution_count": 3,
   "metadata": {},
   "outputs": [],
   "source": [
    "pd.set_option('max_colwidth', 500)"
   ]
  },
  {
   "cell_type": "code",
   "execution_count": 4,
   "metadata": {},
   "outputs": [
    {
     "name": "stdout",
     "output_type": "stream",
     "text": [
      "['Cookbooks, Food & Wine']: 83\n",
      "['Engineering & Transportation', 'Politics & Social Sciences']: 47\n",
      "['Engineering & Transportation', 'Science & Math']: 6\n",
      "['Engineering & Transportation']: 474\n",
      "['Literature & Fiction', 'Medicine & Health Sciences']: 1\n",
      "['Literature & Fiction', 'Politics & Social Sciences']: 792\n",
      "['Literature & Fiction', 'Science & Math']: 4\n",
      "['Literature & Fiction']: 2887\n",
      "['Medicine & Health Sciences', 'Politics & Social Sciences']: 26\n",
      "['Medicine & Health Sciences', 'Science & Math']: 2\n",
      "['Medicine & Health Sciences']: 391\n",
      "['None']: 1110\n",
      "['Politics & Social Sciences', 'Science & Math']: 3\n",
      "['Politics & Social Sciences']: 3666\n",
      "['Science & Math']: 200\n",
      "\n"
     ]
    }
   ],
   "source": [
    "label, counts = np.unique(df_all.genre_prediction, return_counts=True)\n",
    "for l,c in zip(label, counts):\n",
    "    print(f'{l}: {c}')\n",
    "print(\"\")\n",
    "#label, counts = np.unique(df.register_prediction, return_counts=True)\n",
    "#for l,c in zip(label, counts):\n",
    "#    print(f'{l}: {c}')"
   ]
  },
  {
   "cell_type": "code",
   "execution_count": 10,
   "metadata": {},
   "outputs": [
    {
     "data": {
      "text/html": [
       "<div>\n",
       "<style scoped>\n",
       "    .dataframe tbody tr th:only-of-type {\n",
       "        vertical-align: middle;\n",
       "    }\n",
       "\n",
       "    .dataframe tbody tr th {\n",
       "        vertical-align: top;\n",
       "    }\n",
       "\n",
       "    .dataframe thead th {\n",
       "        text-align: right;\n",
       "    }\n",
       "</style>\n",
       "<table border=\"1\" class=\"dataframe\">\n",
       "  <thead>\n",
       "    <tr style=\"text-align: right;\">\n",
       "      <th></th>\n",
       "      <th>register_prediction</th>\n",
       "      <th>genre_prediction</th>\n",
       "      <th>count</th>\n",
       "    </tr>\n",
       "  </thead>\n",
       "  <tbody>\n",
       "    <tr>\n",
       "      <th>35</th>\n",
       "      <td>NA</td>\n",
       "      <td>Politics &amp; Social Sciences</td>\n",
       "      <td>2773</td>\n",
       "    </tr>\n",
       "    <tr>\n",
       "      <th>32</th>\n",
       "      <td>NA</td>\n",
       "      <td>Literature &amp; Fiction</td>\n",
       "      <td>2341</td>\n",
       "    </tr>\n",
       "    <tr>\n",
       "      <th>44</th>\n",
       "      <td>OP</td>\n",
       "      <td>Politics &amp; Social Sciences</td>\n",
       "      <td>2026</td>\n",
       "    </tr>\n",
       "    <tr>\n",
       "      <th>109</th>\n",
       "      <td>ne</td>\n",
       "      <td>Politics &amp; Social Sciences</td>\n",
       "      <td>1989</td>\n",
       "    </tr>\n",
       "    <tr>\n",
       "      <th>19</th>\n",
       "      <td>IN</td>\n",
       "      <td>Politics &amp; Social Sciences</td>\n",
       "      <td>1646</td>\n",
       "    </tr>\n",
       "    <tr>\n",
       "      <th>41</th>\n",
       "      <td>OP</td>\n",
       "      <td>Literature &amp; Fiction</td>\n",
       "      <td>1404</td>\n",
       "    </tr>\n",
       "    <tr>\n",
       "      <th>116</th>\n",
       "      <td>ob</td>\n",
       "      <td>Politics &amp; Social Sciences</td>\n",
       "      <td>1208</td>\n",
       "    </tr>\n",
       "    <tr>\n",
       "      <th>16</th>\n",
       "      <td>IN</td>\n",
       "      <td>Literature &amp; Fiction</td>\n",
       "      <td>1057</td>\n",
       "    </tr>\n",
       "    <tr>\n",
       "      <th>68</th>\n",
       "      <td>dtp</td>\n",
       "      <td>Literature &amp; Fiction</td>\n",
       "      <td>793</td>\n",
       "    </tr>\n",
       "    <tr>\n",
       "      <th>71</th>\n",
       "      <td>dtp</td>\n",
       "      <td>Politics &amp; Social Sciences</td>\n",
       "      <td>787</td>\n",
       "    </tr>\n",
       "  </tbody>\n",
       "</table>\n",
       "</div>"
      ],
      "text/plain": [
       "    register_prediction            genre_prediction  count\n",
       "35                   NA  Politics & Social Sciences   2773\n",
       "32                   NA        Literature & Fiction   2341\n",
       "44                   OP  Politics & Social Sciences   2026\n",
       "109                  ne  Politics & Social Sciences   1989\n",
       "19                   IN  Politics & Social Sciences   1646\n",
       "41                   OP        Literature & Fiction   1404\n",
       "116                  ob  Politics & Social Sciences   1208\n",
       "16                   IN        Literature & Fiction   1057\n",
       "68                  dtp        Literature & Fiction    793\n",
       "71                  dtp  Politics & Social Sciences    787"
      ]
     },
     "execution_count": 10,
     "metadata": {},
     "output_type": "execute_result"
    }
   ],
   "source": [
    "# Group by 'col1' and 'col2' and count occurrences\n",
    "from ast import literal_eval\n",
    "df2 = pd.DataFrame()\n",
    "df2['genre_prediction'] = df_all['genre_prediction'].apply(literal_eval)\n",
    "df2['register_prediction'] = df_all['register_prediction'].apply(literal_eval)\n",
    "\n",
    "\n",
    "df2 = df2.explode(\"register_prediction\").explode(\"genre_prediction\")\n",
    "#display(df2)\n",
    "comb_counts = df2.groupby(['register_prediction', 'genre_prediction']).size().reset_index(name='count')\n",
    "\n",
    "# Sort the counts in descending order\n",
    "sorted_comb_counts = comb_counts.sort_values(by='count', ascending=False)\n",
    "\n",
    "sorted_comb_counts.head(10)"
   ]
  },
  {
   "cell_type": "markdown",
   "metadata": {},
   "source": [
    "## Engineering & Transportation"
   ]
  },
  {
   "cell_type": "code",
   "execution_count": null,
   "metadata": {},
   "outputs": [],
   "source": [
    "label = 'Engineering & Transportation'\n",
    "df = df_all[df_all['genre_prediction'].apply(lambda x: label in x)]\n",
    "df = df.sample(frac = 1)  # shuffle\n",
    "df.head(20)"
   ]
  },
  {
   "cell_type": "markdown",
   "metadata": {},
   "source": [
    "## Politics & Social Sciences"
   ]
  },
  {
   "cell_type": "code",
   "execution_count": null,
   "metadata": {},
   "outputs": [],
   "source": [
    "label = 'Politics & Social Sciences'\n",
    "df = df_all[df_all['genre_prediction'].apply(lambda x: label in x)]\n",
    "df = df.sample(frac = 1)  # shuffle\n",
    "df.head(20)"
   ]
  },
  {
   "cell_type": "markdown",
   "metadata": {},
   "source": [
    "## Literature & Fiction"
   ]
  },
  {
   "cell_type": "code",
   "execution_count": null,
   "metadata": {},
   "outputs": [],
   "source": [
    "label = 'Literature & Fiction'\n",
    "df = df_all[df_all['genre_prediction'].apply(lambda x: label in x)]\n",
    "df = df.sample(frac = 1)  # shuffle\n",
    "df.head(20)"
   ]
  },
  {
   "cell_type": "markdown",
   "metadata": {},
   "source": [
    "## Cookbooks, Food & Wine"
   ]
  },
  {
   "cell_type": "code",
   "execution_count": null,
   "metadata": {},
   "outputs": [],
   "source": [
    "label = 'Cookbooks, Food & Wine'\n",
    "df = df_all[df_all['genre_prediction'].apply(lambda x: label in x)]\n",
    "df = df.sample(frac = 1)  # shuffle\n",
    "df.head(20)"
   ]
  },
  {
   "cell_type": "markdown",
   "metadata": {},
   "source": [
    "## Medicine & Health Sciences"
   ]
  },
  {
   "cell_type": "code",
   "execution_count": null,
   "metadata": {},
   "outputs": [],
   "source": [
    "label = 'Medicine & Health Sciences'\n",
    "df = df_all[df_all['genre_prediction'].apply(lambda x: label in x)]\n",
    "df = df.sample(frac = 1)  # shuffle\n",
    "df.head(20)"
   ]
  },
  {
   "cell_type": "markdown",
   "metadata": {},
   "source": [
    "## Science & Math"
   ]
  },
  {
   "cell_type": "code",
   "execution_count": null,
   "metadata": {},
   "outputs": [],
   "source": [
    "label = 'Science & Math'\n",
    "df = df_all[df_all['genre_prediction'].apply(lambda x: label in x)]\n",
    "df = df.sample(frac = 1)  # shuffle\n",
    "df.head(20)"
   ]
  },
  {
   "cell_type": "markdown",
   "metadata": {},
   "source": [
    "## No genre prediction"
   ]
  },
  {
   "cell_type": "code",
   "execution_count": null,
   "metadata": {},
   "outputs": [],
   "source": [
    "label = 'None'\n",
    "df = df_all[df_all['genre_prediction'].apply(lambda x: label in x)]\n",
    "df = df.sample(frac = 1)  # shuffle\n",
    "df.head(20)"
   ]
  },
  {
   "cell_type": "markdown",
   "metadata": {},
   "source": [
    "## Other way?"
   ]
  },
  {
   "cell_type": "code",
   "execution_count": null,
   "metadata": {},
   "outputs": [],
   "source": [
    "label = 'ID'\n",
    "df = df_all[df_all['register_prediction'].apply(lambda x: label in x)]\n",
    "df = df.sample(frac = 1)  # shuffle\n",
    "df.head(20)"
   ]
  },
  {
   "cell_type": "code",
   "execution_count": null,
   "metadata": {},
   "outputs": [],
   "source": [
    "label = 'ne'\n",
    "df = df_all[df_all['register_prediction'].apply(lambda x: label in x)]\n",
    "df = df.sample(frac = 1)  # shuffle\n",
    "df.head(20)"
   ]
  },
  {
   "cell_type": "code",
   "execution_count": null,
   "metadata": {},
   "outputs": [],
   "source": []
  }
 ],
 "metadata": {
  "kernelspec": {
   "display_name": "Python 3",
   "language": "python",
   "name": "python3"
  },
  "language_info": {
   "codemirror_mode": {
    "name": "ipython",
    "version": 3
   },
   "file_extension": ".py",
   "mimetype": "text/x-python",
   "name": "python",
   "nbconvert_exporter": "python",
   "pygments_lexer": "ipython3",
   "version": "3.9.18"
  }
 },
 "nbformat": 4,
 "nbformat_minor": 4
}
