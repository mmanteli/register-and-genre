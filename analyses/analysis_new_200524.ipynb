{
 "cells": [
  {
   "cell_type": "markdown",
   "metadata": {},
   "source": [
    "# Analyzing the two predictions and how they connect"
   ]
  },
  {
   "cell_type": "code",
   "execution_count": 1,
   "metadata": {},
   "outputs": [],
   "source": [
    "import pandas as pd\n",
    "import numpy as np"
   ]
  },
  {
   "cell_type": "code",
   "execution_count": 2,
   "metadata": {},
   "outputs": [],
   "source": [
    "df_all = pd.read_csv(\"/scratch/project_2009199/register-vs-genre/register-and-genre/new_results/large_large_03_04.tsv\", sep=\"\\t\")"
   ]
  },
  {
   "cell_type": "code",
   "execution_count": 4,
   "metadata": {},
   "outputs": [
    {
     "name": "stdout",
     "output_type": "stream",
     "text": [
      "5085\n"
     ]
    }
   ],
   "source": [
    "print(len(df_all))"
   ]
  },
  {
   "cell_type": "code",
   "execution_count": 3,
   "metadata": {},
   "outputs": [],
   "source": [
    "pd.set_option('max_colwidth', 500)"
   ]
  },
  {
   "cell_type": "code",
   "execution_count": 4,
   "metadata": {},
   "outputs": [
    {
     "name": "stdout",
     "output_type": "stream",
     "text": [
      "['Cookbooks, Food & Wine']: 58\n",
      "['Engineering & Transportation', 'Politics & Social Sciences']: 17\n",
      "['Engineering & Transportation', 'Science & Math']: 6\n",
      "['Engineering & Transportation']: 618\n",
      "['Literature & Fiction', 'Politics & Social Sciences']: 173\n",
      "['Literature & Fiction', 'Science & Math']: 1\n",
      "['Literature & Fiction']: 1642\n",
      "['Medicine & Health Sciences', 'Politics & Social Sciences']: 5\n",
      "['Medicine & Health Sciences', 'Science & Math']: 2\n",
      "['Medicine & Health Sciences']: 189\n",
      "['None']: 1190\n",
      "['Politics & Social Sciences']: 1110\n",
      "['Science & Math']: 74\n",
      "\n"
     ]
    }
   ],
   "source": [
    "label, counts = np.unique(df_all.genre_prediction, return_counts=True)\n",
    "for l,c in zip(label, counts):\n",
    "    print(f'{l}: {c}')\n",
    "print(\"\")\n",
    "#label, counts = np.unique(df.register_prediction, return_counts=True)\n",
    "#for l,c in zip(label, counts):\n",
    "#    print(f'{l}: {c}')"
   ]
  },
  {
   "cell_type": "code",
   "execution_count": 5,
   "metadata": {},
   "outputs": [
    {
     "data": {
      "text/html": [
       "<div>\n",
       "<style scoped>\n",
       "    .dataframe tbody tr th:only-of-type {\n",
       "        vertical-align: middle;\n",
       "    }\n",
       "\n",
       "    .dataframe tbody tr th {\n",
       "        vertical-align: top;\n",
       "    }\n",
       "\n",
       "    .dataframe thead th {\n",
       "        text-align: right;\n",
       "    }\n",
       "</style>\n",
       "<table border=\"1\" class=\"dataframe\">\n",
       "  <thead>\n",
       "    <tr style=\"text-align: right;\">\n",
       "      <th></th>\n",
       "      <th>register_prediction</th>\n",
       "      <th>genre_prediction</th>\n",
       "      <th>count</th>\n",
       "    </tr>\n",
       "  </thead>\n",
       "  <tbody>\n",
       "    <tr>\n",
       "      <th>15</th>\n",
       "      <td>IN</td>\n",
       "      <td>Literature &amp; Fiction</td>\n",
       "      <td>961</td>\n",
       "    </tr>\n",
       "    <tr>\n",
       "      <th>17</th>\n",
       "      <td>IN</td>\n",
       "      <td>None</td>\n",
       "      <td>819</td>\n",
       "    </tr>\n",
       "    <tr>\n",
       "      <th>18</th>\n",
       "      <td>IN</td>\n",
       "      <td>Politics &amp; Social Sciences</td>\n",
       "      <td>683</td>\n",
       "    </tr>\n",
       "    <tr>\n",
       "      <th>31</th>\n",
       "      <td>NA</td>\n",
       "      <td>Literature &amp; Fiction</td>\n",
       "      <td>608</td>\n",
       "    </tr>\n",
       "    <tr>\n",
       "      <th>14</th>\n",
       "      <td>IN</td>\n",
       "      <td>Engineering &amp; Transportation</td>\n",
       "      <td>510</td>\n",
       "    </tr>\n",
       "    <tr>\n",
       "      <th>34</th>\n",
       "      <td>NA</td>\n",
       "      <td>Politics &amp; Social Sciences</td>\n",
       "      <td>471</td>\n",
       "    </tr>\n",
       "    <tr>\n",
       "      <th>65</th>\n",
       "      <td>dtp</td>\n",
       "      <td>Literature &amp; Fiction</td>\n",
       "      <td>430</td>\n",
       "    </tr>\n",
       "    <tr>\n",
       "      <th>67</th>\n",
       "      <td>dtp</td>\n",
       "      <td>None</td>\n",
       "      <td>373</td>\n",
       "    </tr>\n",
       "    <tr>\n",
       "      <th>92</th>\n",
       "      <td>ne</td>\n",
       "      <td>Politics &amp; Social Sciences</td>\n",
       "      <td>342</td>\n",
       "    </tr>\n",
       "    <tr>\n",
       "      <th>22</th>\n",
       "      <td>IP</td>\n",
       "      <td>Literature &amp; Fiction</td>\n",
       "      <td>304</td>\n",
       "    </tr>\n",
       "  </tbody>\n",
       "</table>\n",
       "</div>"
      ],
      "text/plain": [
       "   register_prediction              genre_prediction  count\n",
       "15                  IN          Literature & Fiction    961\n",
       "17                  IN                          None    819\n",
       "18                  IN    Politics & Social Sciences    683\n",
       "31                  NA          Literature & Fiction    608\n",
       "14                  IN  Engineering & Transportation    510\n",
       "34                  NA    Politics & Social Sciences    471\n",
       "65                 dtp          Literature & Fiction    430\n",
       "67                 dtp                          None    373\n",
       "92                  ne    Politics & Social Sciences    342\n",
       "22                  IP          Literature & Fiction    304"
      ]
     },
     "metadata": {},
     "output_type": "display_data"
    },
    {
     "data": {
      "text/html": [
       "<div>\n",
       "<style scoped>\n",
       "    .dataframe tbody tr th:only-of-type {\n",
       "        vertical-align: middle;\n",
       "    }\n",
       "\n",
       "    .dataframe tbody tr th {\n",
       "        vertical-align: top;\n",
       "    }\n",
       "\n",
       "    .dataframe thead th {\n",
       "        text-align: right;\n",
       "    }\n",
       "</style>\n",
       "<table border=\"1\" class=\"dataframe\">\n",
       "  <thead>\n",
       "    <tr style=\"text-align: right;\">\n",
       "      <th></th>\n",
       "      <th>register_prediction</th>\n",
       "      <th>genre_prediction</th>\n",
       "      <th>count</th>\n",
       "    </tr>\n",
       "  </thead>\n",
       "  <tbody>\n",
       "    <tr>\n",
       "      <th>50</th>\n",
       "      <td>av</td>\n",
       "      <td>Cookbooks, Food &amp; Wine</td>\n",
       "      <td>2</td>\n",
       "    </tr>\n",
       "    <tr>\n",
       "      <th>38</th>\n",
       "      <td>None</td>\n",
       "      <td>Medicine &amp; Health Sciences</td>\n",
       "      <td>2</td>\n",
       "    </tr>\n",
       "    <tr>\n",
       "      <th>48</th>\n",
       "      <td>SP</td>\n",
       "      <td>None</td>\n",
       "      <td>2</td>\n",
       "    </tr>\n",
       "    <tr>\n",
       "      <th>78</th>\n",
       "      <td>lt</td>\n",
       "      <td>None</td>\n",
       "      <td>1</td>\n",
       "    </tr>\n",
       "    <tr>\n",
       "      <th>80</th>\n",
       "      <td>nb</td>\n",
       "      <td>Cookbooks, Food &amp; Wine</td>\n",
       "      <td>1</td>\n",
       "    </tr>\n",
       "    <tr>\n",
       "      <th>109</th>\n",
       "      <td>rv</td>\n",
       "      <td>Cookbooks, Food &amp; Wine</td>\n",
       "      <td>1</td>\n",
       "    </tr>\n",
       "    <tr>\n",
       "      <th>28</th>\n",
       "      <td>LY</td>\n",
       "      <td>Politics &amp; Social Sciences</td>\n",
       "      <td>1</td>\n",
       "    </tr>\n",
       "    <tr>\n",
       "      <th>112</th>\n",
       "      <td>rv</td>\n",
       "      <td>Medicine &amp; Health Sciences</td>\n",
       "      <td>1</td>\n",
       "    </tr>\n",
       "    <tr>\n",
       "      <th>70</th>\n",
       "      <td>en</td>\n",
       "      <td>Engineering &amp; Transportation</td>\n",
       "      <td>1</td>\n",
       "    </tr>\n",
       "    <tr>\n",
       "      <th>74</th>\n",
       "      <td>fi</td>\n",
       "      <td>Engineering &amp; Transportation</td>\n",
       "      <td>1</td>\n",
       "    </tr>\n",
       "  </tbody>\n",
       "</table>\n",
       "</div>"
      ],
      "text/plain": [
       "    register_prediction              genre_prediction  count\n",
       "50                   av        Cookbooks, Food & Wine      2\n",
       "38                 None    Medicine & Health Sciences      2\n",
       "48                   SP                          None      2\n",
       "78                   lt                          None      1\n",
       "80                   nb        Cookbooks, Food & Wine      1\n",
       "109                  rv        Cookbooks, Food & Wine      1\n",
       "28                   LY    Politics & Social Sciences      1\n",
       "112                  rv    Medicine & Health Sciences      1\n",
       "70                   en  Engineering & Transportation      1\n",
       "74                   fi  Engineering & Transportation      1"
      ]
     },
     "metadata": {},
     "output_type": "display_data"
    }
   ],
   "source": [
    "# Group by 'col1' and 'col2' and count occurrences\n",
    "from ast import literal_eval\n",
    "df2 = pd.DataFrame()\n",
    "df2['genre_prediction'] = df_all['genre_prediction'].apply(literal_eval)\n",
    "df2['register_prediction'] = df_all['register_prediction'].apply(literal_eval)\n",
    "\n",
    "\n",
    "df2 = df2.explode(\"register_prediction\").explode(\"genre_prediction\")\n",
    "#display(df2)\n",
    "comb_counts = df2.groupby(['register_prediction', 'genre_prediction']).size().reset_index(name='count')\n",
    "\n",
    "# Sort the counts in descending order\n",
    "sorted_comb_counts = comb_counts.sort_values(by='count', ascending=False)\n",
    "\n",
    "display(sorted_comb_counts.head(10))\n",
    "display(sorted_comb_counts.tail(10))\n"
   ]
  },
  {
   "cell_type": "code",
   "execution_count": 10,
   "metadata": {},
   "outputs": [
    {
     "data": {
      "text/html": [
       "<div>\n",
       "<style scoped>\n",
       "    .dataframe tbody tr th:only-of-type {\n",
       "        vertical-align: middle;\n",
       "    }\n",
       "\n",
       "    .dataframe tbody tr th {\n",
       "        vertical-align: top;\n",
       "    }\n",
       "\n",
       "    .dataframe thead th {\n",
       "        text-align: right;\n",
       "    }\n",
       "</style>\n",
       "<table border=\"1\" class=\"dataframe\">\n",
       "  <thead>\n",
       "    <tr style=\"text-align: right;\">\n",
       "      <th></th>\n",
       "      <th>genre_prediction</th>\n",
       "      <th>register_prediction</th>\n",
       "    </tr>\n",
       "  </thead>\n",
       "  <tbody>\n",
       "    <tr>\n",
       "      <th>3281</th>\n",
       "      <td>Politics &amp; Social Sciences</td>\n",
       "      <td>LY</td>\n",
       "    </tr>\n",
       "  </tbody>\n",
       "</table>\n",
       "</div>"
      ],
      "text/plain": [
       "                genre_prediction register_prediction\n",
       "3281  Politics & Social Sciences                  LY"
      ]
     },
     "metadata": {},
     "output_type": "display_data"
    },
    {
     "data": {
      "text/plain": [
       "Unnamed: 0                                                                                                                                                                                                                                                                                                                                                                                                                                                                                                                            3281\n",
       "id                                                                                                                                                                                                                                                                                                                                                                                                                                                                                                                               196041099\n",
       "labels                                                                                                                                                                                                                                                                                                                                                                                                                                                                                                                              ['LY']\n",
       "text                   Dado que no hay tiempo para escribir, aquí os dejo con unos crudos minutos musicales: We close our eyes and look in opposite direction we ignore the threats and hope they-ll go away we refuse to pay attention to the dangers we create in the name of our fathers we kill our children we wait and think that we are biding our time we keep silent, we believe in our strength we trust in propaganda of the wonders of tomorrow in the shadow of contempt we are victims in the end we dance to the sound o...\n",
       "register_prediction                                                                                                                                                                                                                                                                                                                                                                                                                                                                                                                 ['LY']\n",
       "genre_prediction                                                                                                                                                                                                                                                                                                                                                                                                                                                                    ['Literature & Fiction', 'Politics & Social Sciences']\n",
       "Name: 3281, dtype: object"
      ]
     },
     "metadata": {},
     "output_type": "display_data"
    }
   ],
   "source": [
    "df_weird = df2[df2.genre_prediction==\"Politics & Social Sciences\"]\n",
    "\n",
    "df_weird = df_weird[df_weird.register_prediction == \"LY\"]\n",
    "display(df_weird)\n",
    "display(df_all.iloc[3281])"
   ]
  },
  {
   "cell_type": "markdown",
   "metadata": {},
   "source": [
    "## Engineering & Transportation"
   ]
  },
  {
   "cell_type": "code",
   "execution_count": null,
   "metadata": {},
   "outputs": [],
   "source": [
    "label = 'Engineering & Transportation'\n",
    "df = df_all[df_all['genre_prediction'].apply(lambda x: label in x)]\n",
    "df = df.sample(frac = 1)  # shuffle\n",
    "df.head(20)"
   ]
  },
  {
   "cell_type": "markdown",
   "metadata": {},
   "source": [
    "## Politics & Social Sciences"
   ]
  },
  {
   "cell_type": "code",
   "execution_count": null,
   "metadata": {},
   "outputs": [],
   "source": [
    "label = 'Politics & Social Sciences'\n",
    "df = df_all[df_all['genre_prediction'].apply(lambda x: label in x)]\n",
    "df = df.sample(frac = 1)  # shuffle\n",
    "df.head(20)"
   ]
  },
  {
   "cell_type": "markdown",
   "metadata": {},
   "source": [
    "## Literature & Fiction"
   ]
  },
  {
   "cell_type": "code",
   "execution_count": null,
   "metadata": {},
   "outputs": [],
   "source": [
    "label = 'Literature & Fiction'\n",
    "df = df_all[df_all['genre_prediction'].apply(lambda x: label in x)]\n",
    "df = df.sample(frac = 1)  # shuffle\n",
    "df.head(20)"
   ]
  },
  {
   "cell_type": "markdown",
   "metadata": {},
   "source": [
    "## Cookbooks, Food & Wine"
   ]
  },
  {
   "cell_type": "code",
   "execution_count": null,
   "metadata": {},
   "outputs": [],
   "source": [
    "label = 'Cookbooks, Food & Wine'\n",
    "df = df_all[df_all['genre_prediction'].apply(lambda x: label in x)]\n",
    "df = df.sample(frac = 1)  # shuffle\n",
    "df.head(20)"
   ]
  },
  {
   "cell_type": "markdown",
   "metadata": {},
   "source": [
    "## Medicine & Health Sciences"
   ]
  },
  {
   "cell_type": "code",
   "execution_count": null,
   "metadata": {},
   "outputs": [],
   "source": [
    "label = 'Medicine & Health Sciences'\n",
    "df = df_all[df_all['genre_prediction'].apply(lambda x: label in x)]\n",
    "df = df.sample(frac = 1)  # shuffle\n",
    "df.head(20)"
   ]
  },
  {
   "cell_type": "markdown",
   "metadata": {},
   "source": [
    "## Science & Math"
   ]
  },
  {
   "cell_type": "code",
   "execution_count": null,
   "metadata": {},
   "outputs": [],
   "source": [
    "label = 'Science & Math'\n",
    "df = df_all[df_all['genre_prediction'].apply(lambda x: label in x)]\n",
    "df = df.sample(frac = 1)  # shuffle\n",
    "df.head(20)"
   ]
  },
  {
   "cell_type": "markdown",
   "metadata": {},
   "source": [
    "## No genre prediction"
   ]
  },
  {
   "cell_type": "code",
   "execution_count": null,
   "metadata": {},
   "outputs": [],
   "source": [
    "label = 'None'\n",
    "df = df_all[df_all['genre_prediction'].apply(lambda x: label in x)]\n",
    "df = df.sample(frac = 1)  # shuffle\n",
    "df.head(20)"
   ]
  },
  {
   "cell_type": "markdown",
   "metadata": {},
   "source": [
    "## Other way?"
   ]
  },
  {
   "cell_type": "code",
   "execution_count": null,
   "metadata": {},
   "outputs": [],
   "source": [
    "label = 'ID'\n",
    "df = df_all[df_all['register_prediction'].apply(lambda x: label in x)]\n",
    "df = df.sample(frac = 1)  # shuffle\n",
    "df.head(20)"
   ]
  },
  {
   "cell_type": "code",
   "execution_count": null,
   "metadata": {},
   "outputs": [],
   "source": [
    "label = 'ne'\n",
    "df = df_all[df_all['register_prediction'].apply(lambda x: label in x)]\n",
    "df = df.sample(frac = 1)  # shuffle\n",
    "df.head(20)"
   ]
  },
  {
   "cell_type": "code",
   "execution_count": null,
   "metadata": {},
   "outputs": [],
   "source": []
  }
 ],
 "metadata": {
  "kernelspec": {
   "display_name": "Python 3",
   "language": "python",
   "name": "python3"
  },
  "language_info": {
   "codemirror_mode": {
    "name": "ipython",
    "version": 3
   },
   "file_extension": ".py",
   "mimetype": "text/x-python",
   "name": "python",
   "nbconvert_exporter": "python",
   "pygments_lexer": "ipython3",
   "version": "3.9.18"
  }
 },
 "nbformat": 4,
 "nbformat_minor": 4
}
