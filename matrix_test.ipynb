{
 "cells": [
  {
   "cell_type": "code",
   "execution_count": 13,
   "id": "db4d399c-1f18-4bd2-a310-d7026ad6b6d1",
   "metadata": {},
   "outputs": [
    {
     "name": "stdout",
     "output_type": "stream",
     "text": [
      "[[0.66666667 0.         0.33333333 0.        ]\n",
      " [0.         0.         0.         0.        ]\n",
      " [0.         0.         0.         0.        ]\n",
      " [0.         0.         0.33333333 0.66666667]]\n",
      "[[1 0 0 0]\n",
      " [0 0 0 0]\n",
      " [0 0 0 0]\n",
      " [0 0 0 1]]\n",
      "[[1.  0.  0.5 0. ]\n",
      " [0.  0.  0.  0. ]\n",
      " [0.  0.  0.  0. ]\n",
      " [0.  0.  0.5 1. ]]\n"
     ]
    }
   ],
   "source": [
    "import numpy as np\n",
    "\n",
    "T = np.array([1, 0, 0, 1])\n",
    "P = np.array([1, 0, 1, 1])\n",
    "\n",
    "T_ = np.array(T) & (~np.array(P) & 1)\n",
    "P_ = np.array(P) & (~np.array(T) & 1)\n",
    "\n",
    "if all(T_==P_):\n",
    "  M = np.diag(T)\n",
    "  CR = np.diag(T)\n",
    "  CP = np.diag(T)\n",
    "        \n",
    "if all(T_== 0) and any(P_== 1):\n",
    "  M = (np.outer(T, P_) + np.sum(T)*np.diag(T))/np.sum(P)\n",
    "  CR = np.diag(T)\n",
    "  CP = np.outer(T,P_)/np.sum(T) + np.diag(T)\n",
    "\n",
    "if all(P_== 0) and any(T_ == 1):\n",
    "  M = np.outer(T_,P)/np.sum(P) + np.diag(P)\n",
    "  CR = np.outer(T_,P)/np.sum(P) + np.diag(P)\n",
    "  CP = np.diag(P)\n",
    "\n",
    "if any(T_== 1) and any(P_== 1):\n",
    "  M = np.outer(T_, P_)/np.sum(P_) + np.diag(T&P)\n",
    "  CR = np.diag(T&P) + np.outer(T_,P_)/np.sum(P_)\n",
    "  CP = np.diag(T&P) + np.outer(T_,P_)/np.sum(T_)\n",
    "\n",
    "print(M)\n",
    "print(CR)\n",
    "print(CP)"
   ]
  },
  {
   "cell_type": "code",
   "execution_count": 14,
   "id": "82e21cd5-00f3-49d3-8373-08d5b79631f5",
   "metadata": {},
   "outputs": [
    {
     "name": "stdout",
     "output_type": "stream",
     "text": [
      "[[1. 0. 0. 0.]\n",
      " [1. 0. 0. 0.]\n",
      " [0. 0. 0. 0.]\n",
      " [0. 0. 0. 0.]]\n",
      "[[1. 0. 0. 0.]\n",
      " [1. 0. 0. 0.]\n",
      " [0. 0. 0. 0.]\n",
      " [0. 0. 0. 0.]]\n",
      "[[1 0 0 0]\n",
      " [0 0 0 0]\n",
      " [0 0 0 0]\n",
      " [0 0 0 0]]\n"
     ]
    }
   ],
   "source": [
    "T = np.array([1, 1, 0, 0])\n",
    "P = np.array([1, 0, 0, 0])\n",
    "\n",
    "T_ = np.array(T) & (~np.array(P) & 1)\n",
    "P_ = np.array(P) & (~np.array(T) & 1)\n",
    "\n",
    "if all(T_==P_):\n",
    "  M = np.diag(T)\n",
    "  CR = np.diag(T)\n",
    "  CP = np.diag(T)\n",
    "        \n",
    "if all(T_== 0) and any(P_== 1):\n",
    "  M = (np.outer(T, P_) + np.sum(T)*np.diag(T))/np.sum(P)\n",
    "  CR = np.diag(T)\n",
    "  CP = np.outer(T,P_)/np.sum(T) + np.diag(T)\n",
    "\n",
    "if all(P_== 0) and any(T_ == 1):\n",
    "  M = np.outer(T_,P)/np.sum(P) + np.diag(P)\n",
    "  CR = np.outer(T_,P)/np.sum(P) + np.diag(P)\n",
    "  CP = np.diag(P)\n",
    "\n",
    "if any(T_== 1) and any(P_== 1):\n",
    "  M = np.outer(T_, P_)/np.sum(P_) + np.diag(T&P)\n",
    "  CR = np.diag(T&P) + np.outer(T_,P_)/np.sum(P_)\n",
    "  CP = np.diag(T&P) + np.outer(T_,P_)/np.sum(T_)\n",
    "\n",
    "print(M)\n",
    "print(CR)\n",
    "print(CP)"
   ]
  },
  {
   "cell_type": "code",
   "execution_count": null,
   "id": "d578fcb2-2aa9-4785-b618-a763846e2ca6",
   "metadata": {},
   "outputs": [],
   "source": []
  }
 ],
 "metadata": {
  "kernelspec": {
   "display_name": "Python 3",
   "language": "python",
   "name": "python3"
  },
  "language_info": {
   "codemirror_mode": {
    "name": "ipython",
    "version": 3
   },
   "file_extension": ".py",
   "mimetype": "text/x-python",
   "name": "python",
   "nbconvert_exporter": "python",
   "pygments_lexer": "ipython3",
   "version": "3.9.16"
  }
 },
 "nbformat": 4,
 "nbformat_minor": 5
}
